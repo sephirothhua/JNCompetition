{
 "cells": [
  {
   "cell_type": "code",
   "execution_count": 1,
   "metadata": {},
   "outputs": [],
   "source": [
    "# -*- coding=utf-8 -*-\n",
    "import glob\n",
    "import os\n",
    "import sys\n",
    "import xml.etree.ElementTree as ET\n",
    "import numpy as np\n",
    "from sklearn.cluster import KMeans"
   ]
  },
  {
   "cell_type": "code",
   "execution_count": 2,
   "metadata": {},
   "outputs": [
    {
     "name": "stdout",
     "output_type": "stream",
     "text": [
      "./data/train_r1\n",
      "[1 2 3 ... 1 5 4]\n",
      "Boxes:\n",
      " [ 90.57278481  45.99127726 122.21983914 165.01727116 182.18412698\n",
      "  65.29858657]-[ 49.66218354  37.49968847  86.82037534  49.07772021 105.55873016\n",
      " 100.0335689 ]\n",
      "Ratios:\n",
      " [0.65, 1.23, 1.41, 1.73, 1.82, 3.36]\n"
     ]
    }
   ],
   "source": [
    "# 根文件夹\n",
    "ROOT_PATH = './data/'\n",
    "# 聚类的数目\n",
    "CLUSTERS = 6\n",
    "# 模型中图像的输入尺寸，默认是一样的\n",
    "SIZE = 640\n",
    "\n",
    "# 加载YOLO格式的标注数据\n",
    "def load_dataset(path):\n",
    "    jpegimages = os.path.join(path, 'train_r1')\n",
    "    print(jpegimages)\n",
    "    if not os.path.exists(jpegimages):\n",
    "        print('no JPEGImages folders, program abort')\n",
    "        sys.exit(0)\n",
    "    labels_txt = os.path.join(path, 'train_r1.txt')\n",
    "    if not os.path.exists(labels_txt):\n",
    "        print('no labels folders, program abort')\n",
    "        sys.exit(0)\n",
    "\n",
    "#     label_file = os.listdir(labels_txt)\n",
    "#     print('label count: {}'.format(len(label_file)))\n",
    "    dataset = []\n",
    "\n",
    "#     for label in label_file:\n",
    "    with open(labels_txt, 'r') as f:\n",
    "        txt_content = f.readlines()\n",
    "\n",
    "    for line in txt_content:\n",
    "#         line_split = line.split(' ')\n",
    "#         roi_with = float(line_split[len(line_split)-2])\n",
    "#         roi_height = float(line_split[len(line_split)-1])\n",
    "        line = line.split()\n",
    "        box = np.array([np.array(list(map(int,box.split(',')))) for box in line[1:]])\n",
    "        roi_with = box[:,2]-box[:,0]\n",
    "        roi_height = box[:,3]-box[:,1]\n",
    "        for i in range(roi_with.shape[0]):\n",
    "            dataset.append(np.array([roi_with[i], roi_height[i]]))\n",
    "#         dataset.append([roi_with, roi_height])\n",
    "            # print([roi_with, roi_height])\n",
    "\n",
    "    return np.array(dataset)\n",
    "\n",
    "data = load_dataset(ROOT_PATH)\n",
    "km = KMeans(n_clusters=CLUSTERS,init='k-means++')\n",
    "out = km.fit_predict(data)\n",
    "center = km.cluster_centers_\n",
    "print(out)\n",
    "# print(\"Accuracy: {:.2f}%\".format(avg_iou(data, out) * 100))\n",
    "print(\"Boxes:\\n {}-{}\".format(center[:, 0], center[:, 1]))\n",
    "\n",
    "ratios = np.around(center[:, 0] / center[:, 1], decimals=2).tolist()\n",
    "print(\"Ratios:\\n {}\".format(sorted(ratios)))"
   ]
  },
  {
   "cell_type": "code",
   "execution_count": 3,
   "metadata": {},
   "outputs": [
    {
     "data": {
      "text/plain": [
       "array([[ 90.57278481,  49.66218354],\n",
       "       [ 45.99127726,  37.49968847],\n",
       "       [122.21983914,  86.82037534],\n",
       "       [165.01727116,  49.07772021],\n",
       "       [182.18412698, 105.55873016],\n",
       "       [ 65.29858657, 100.0335689 ]])"
      ]
     },
     "execution_count": 3,
     "metadata": {},
     "output_type": "execute_result"
    }
   ],
   "source": [
    "center"
   ]
  },
  {
   "cell_type": "code",
   "execution_count": 4,
   "metadata": {},
   "outputs": [
    {
     "data": {
      "text/plain": [
       "[1.82, 1.23, 1.41, 3.36, 1.73, 0.65]"
      ]
     },
     "execution_count": 4,
     "metadata": {},
     "output_type": "execute_result"
    }
   ],
   "source": [
    "ratios"
   ]
  },
  {
   "cell_type": "code",
   "execution_count": null,
   "metadata": {},
   "outputs": [],
   "source": []
  }
 ],
 "metadata": {
  "kernelspec": {
   "display_name": "Python 3",
   "language": "python",
   "name": "python3"
  },
  "language_info": {
   "codemirror_mode": {
    "name": "ipython",
    "version": 3
   },
   "file_extension": ".py",
   "mimetype": "text/x-python",
   "name": "python",
   "nbconvert_exporter": "python",
   "pygments_lexer": "ipython3",
   "version": "3.6.8"
  }
 },
 "nbformat": 4,
 "nbformat_minor": 2
}
